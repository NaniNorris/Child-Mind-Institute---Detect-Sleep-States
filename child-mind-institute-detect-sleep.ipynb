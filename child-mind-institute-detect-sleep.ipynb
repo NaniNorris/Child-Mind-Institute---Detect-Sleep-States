{
 "cells": [
  {
   "cell_type": "markdown",
   "id": "7f7c2899",
   "metadata": {
    "papermill": {
     "duration": 0.003331,
     "end_time": "2023-10-07T11:13:13.213574",
     "exception": false,
     "start_time": "2023-10-07T11:13:13.210243",
     "status": "completed"
    },
    "tags": []
   },
   "source": [
    "# **OVERVIEW OF THE DATASET**\n",
    "\n",
    "- Definition of sleep event: \n",
    "    - Event class: Onset/Wakeup\n",
    "    - Sleep Onset is indicate the beginning of the sleep, and wakeup is defined as the ebd of the sleep.\n",
    "    - Single sleep period must be the longest inactive period while the accelerometer is worn. \n",
    "    - Single sleep must be the at leat 30 minutes in length which can be interrupted by bouts that do not exceed 30 consecutive 30 mm,inutes.\n",
    "    \n",
    "    \n",
    "- The individual can have multiple sleep window in same clander day. But the **longest sleep window during the night will be recored**.\n",
    "\n",
    "\n",
    "- There is no strict rule to limit number of sleep events in a givien period **however only one window assign per nigth**.\n",
    "\n",
    "\n",
    "- The event that annotated when the accelerometer removed should be refrain from makking predictions. \n",
    "\n",
    "- **Target variable: Event (Oneset/Wakeup)**"
   ]
  },
  {
   "cell_type": "code",
   "execution_count": 1,
   "id": "cb200720",
   "metadata": {
    "_cell_guid": "b1076dfc-b9ad-4769-8c92-a6c4dae69d19",
    "_uuid": "8f2839f25d086af736a60e9eeb907d3b93b6e0e5",
    "execution": {
     "iopub.execute_input": "2023-10-07T11:13:13.223290Z",
     "iopub.status.busy": "2023-10-07T11:13:13.222729Z",
     "iopub.status.idle": "2023-10-07T11:13:15.238830Z",
     "shell.execute_reply": "2023-10-07T11:13:15.237560Z"
    },
    "papermill": {
     "duration": 2.022861,
     "end_time": "2023-10-07T11:13:15.241265",
     "exception": false,
     "start_time": "2023-10-07T11:13:13.218404",
     "status": "completed"
    },
    "tags": []
   },
   "outputs": [],
   "source": [
    "import numpy as np\n",
    "import pandas as pd\n",
    "import matplotlib.pyplot as plt\n",
    "import seaborn as sns\n",
    "from tqdm.notebook import tqdm\n",
    "import polars as pl"
   ]
  },
  {
   "cell_type": "markdown",
   "id": "42e56bba",
   "metadata": {
    "papermill": {
     "duration": 0.002399,
     "end_time": "2023-10-07T11:13:15.246576",
     "exception": false,
     "start_time": "2023-10-07T11:13:15.244177",
     "status": "completed"
    },
    "tags": []
   },
   "source": [
    "- Since the dataset is quite big, Used polars to load fast and effectively in memory.\n",
    "- Converted the outpiut into pandas dataframe to perform EDA and analysis."
   ]
  },
  {
   "cell_type": "code",
   "execution_count": 2,
   "id": "8541bbe0",
   "metadata": {
    "execution": {
     "iopub.execute_input": "2023-10-07T11:13:15.253215Z",
     "iopub.status.busy": "2023-10-07T11:13:15.252727Z",
     "iopub.status.idle": "2023-10-07T11:14:10.232145Z",
     "shell.execute_reply": "2023-10-07T11:14:10.230104Z"
    },
    "papermill": {
     "duration": 54.989265,
     "end_time": "2023-10-07T11:14:10.238313",
     "exception": false,
     "start_time": "2023-10-07T11:13:15.249048",
     "status": "completed"
    },
    "tags": []
   },
   "outputs": [],
   "source": [
    "# reading train_series parquet file as well as converting the timestamp to datetime dtype\n",
    "train_series = (pl.scan_parquet(\"/kaggle/input/child-mind-institute-detect-sleep-states/train_series.parquet\")\n",
    "    .with_columns(pl.col(\"timestamp\").str.strptime(pl.Datetime, \"%Y-%m-%dT%H:%M:%S%Z\"))\n",
    "    .collect().to_pandas())\n",
    "\n",
    "# reading train_event csv\n",
    "train_event = (pl.scan_csv(\"/kaggle/input/child-mind-institute-detect-sleep-states/train_events.csv\")\n",
    "              .with_columns(pl.col('timestamp').str.strptime(pl.Datetime,\"%Y-%m-%dT%H:%M:%S%Z\"))\n",
    "              .collect().to_pandas())"
   ]
  },
  {
   "cell_type": "code",
   "execution_count": 3,
   "id": "3c2c74a7",
   "metadata": {
    "execution": {
     "iopub.execute_input": "2023-10-07T11:14:10.248290Z",
     "iopub.status.busy": "2023-10-07T11:14:10.247783Z",
     "iopub.status.idle": "2023-10-07T11:14:10.268978Z",
     "shell.execute_reply": "2023-10-07T11:14:10.267585Z"
    },
    "papermill": {
     "duration": 0.028895,
     "end_time": "2023-10-07T11:14:10.271856",
     "exception": false,
     "start_time": "2023-10-07T11:14:10.242961",
     "status": "completed"
    },
    "tags": []
   },
   "outputs": [
    {
     "name": "stdout",
     "output_type": "stream",
     "text": [
      "<class 'pandas.core.frame.DataFrame'>\n",
      "RangeIndex: 127946340 entries, 0 to 127946339\n",
      "Data columns (total 5 columns):\n",
      " #   Column     Dtype         \n",
      "---  ------     -----         \n",
      " 0   series_id  object        \n",
      " 1   step       uint32        \n",
      " 2   timestamp  datetime64[ns]\n",
      " 3   anglez     float32       \n",
      " 4   enmo       float32       \n",
      "dtypes: datetime64[ns](1), float32(2), object(1), uint32(1)\n",
      "memory usage: 3.3+ GB\n",
      "\n",
      " The shape of the Dataset is : \n",
      " rows = 127946340, columns = 5\n"
     ]
    }
   ],
   "source": [
    "# understanding the features \n",
    "train_series.info()\n",
    "print(f\"\\n The shape of the Dataset is : \\n rows = {train_series.shape[0]}, columns = {train_series.shape[1]}\")"
   ]
  },
  {
   "cell_type": "code",
   "execution_count": 4,
   "id": "467f7fd1",
   "metadata": {
    "execution": {
     "iopub.execute_input": "2023-10-07T11:14:10.285493Z",
     "iopub.status.busy": "2023-10-07T11:14:10.284755Z",
     "iopub.status.idle": "2023-10-07T11:14:10.301067Z",
     "shell.execute_reply": "2023-10-07T11:14:10.299936Z"
    },
    "papermill": {
     "duration": 0.027376,
     "end_time": "2023-10-07T11:14:10.303618",
     "exception": false,
     "start_time": "2023-10-07T11:14:10.276242",
     "status": "completed"
    },
    "tags": []
   },
   "outputs": [
    {
     "name": "stdout",
     "output_type": "stream",
     "text": [
      "<class 'pandas.core.frame.DataFrame'>\n",
      "RangeIndex: 14508 entries, 0 to 14507\n",
      "Data columns (total 5 columns):\n",
      " #   Column     Non-Null Count  Dtype         \n",
      "---  ------     --------------  -----         \n",
      " 0   series_id  14508 non-null  object        \n",
      " 1   night      14508 non-null  int64         \n",
      " 2   event      14508 non-null  object        \n",
      " 3   step       9585 non-null   float64       \n",
      " 4   timestamp  9585 non-null   datetime64[ns]\n",
      "dtypes: datetime64[ns](1), float64(1), int64(1), object(2)\n",
      "memory usage: 566.8+ KB\n",
      "\n",
      " The shape of the Dataset is : \n",
      " rows = 14508, columns = 5\n"
     ]
    }
   ],
   "source": [
    "# understanding the features \n",
    "train_event.info()\n",
    "print(f\"\\n The shape of the Dataset is : \\n rows = {train_event.shape[0]}, columns = {train_event.shape[1]}\")"
   ]
  },
  {
   "cell_type": "markdown",
   "id": "6b1e381f",
   "metadata": {
    "papermill": {
     "duration": 0.002678,
     "end_time": "2023-10-07T11:14:10.309294",
     "exception": false,
     "start_time": "2023-10-07T11:14:10.306616",
     "status": "completed"
    },
    "tags": []
   },
   "source": [
    "# Getting insight from Train_series"
   ]
  },
  {
   "cell_type": "code",
   "execution_count": 5,
   "id": "0f6b935c",
   "metadata": {
    "execution": {
     "iopub.execute_input": "2023-10-07T11:14:10.316650Z",
     "iopub.status.busy": "2023-10-07T11:14:10.316064Z",
     "iopub.status.idle": "2023-10-07T11:14:10.333879Z",
     "shell.execute_reply": "2023-10-07T11:14:10.332798Z"
    },
    "papermill": {
     "duration": 0.0245,
     "end_time": "2023-10-07T11:14:10.336496",
     "exception": false,
     "start_time": "2023-10-07T11:14:10.311996",
     "status": "completed"
    },
    "tags": []
   },
   "outputs": [
    {
     "data": {
      "text/html": [
       "<div>\n",
       "<style scoped>\n",
       "    .dataframe tbody tr th:only-of-type {\n",
       "        vertical-align: middle;\n",
       "    }\n",
       "\n",
       "    .dataframe tbody tr th {\n",
       "        vertical-align: top;\n",
       "    }\n",
       "\n",
       "    .dataframe thead th {\n",
       "        text-align: right;\n",
       "    }\n",
       "</style>\n",
       "<table border=\"1\" class=\"dataframe\">\n",
       "  <thead>\n",
       "    <tr style=\"text-align: right;\">\n",
       "      <th></th>\n",
       "      <th>series_id</th>\n",
       "      <th>step</th>\n",
       "      <th>timestamp</th>\n",
       "      <th>anglez</th>\n",
       "      <th>enmo</th>\n",
       "    </tr>\n",
       "  </thead>\n",
       "  <tbody>\n",
       "    <tr>\n",
       "      <th>0</th>\n",
       "      <td>038441c925bb</td>\n",
       "      <td>0</td>\n",
       "      <td>2018-08-14 15:30:00</td>\n",
       "      <td>2.6367</td>\n",
       "      <td>0.0217</td>\n",
       "    </tr>\n",
       "    <tr>\n",
       "      <th>1</th>\n",
       "      <td>038441c925bb</td>\n",
       "      <td>1</td>\n",
       "      <td>2018-08-14 15:30:05</td>\n",
       "      <td>2.6368</td>\n",
       "      <td>0.0215</td>\n",
       "    </tr>\n",
       "    <tr>\n",
       "      <th>2</th>\n",
       "      <td>038441c925bb</td>\n",
       "      <td>2</td>\n",
       "      <td>2018-08-14 15:30:10</td>\n",
       "      <td>2.6370</td>\n",
       "      <td>0.0216</td>\n",
       "    </tr>\n",
       "    <tr>\n",
       "      <th>3</th>\n",
       "      <td>038441c925bb</td>\n",
       "      <td>3</td>\n",
       "      <td>2018-08-14 15:30:15</td>\n",
       "      <td>2.6368</td>\n",
       "      <td>0.0213</td>\n",
       "    </tr>\n",
       "    <tr>\n",
       "      <th>4</th>\n",
       "      <td>038441c925bb</td>\n",
       "      <td>4</td>\n",
       "      <td>2018-08-14 15:30:20</td>\n",
       "      <td>2.6368</td>\n",
       "      <td>0.0215</td>\n",
       "    </tr>\n",
       "  </tbody>\n",
       "</table>\n",
       "</div>"
      ],
      "text/plain": [
       "      series_id  step           timestamp  anglez    enmo\n",
       "0  038441c925bb     0 2018-08-14 15:30:00  2.6367  0.0217\n",
       "1  038441c925bb     1 2018-08-14 15:30:05  2.6368  0.0215\n",
       "2  038441c925bb     2 2018-08-14 15:30:10  2.6370  0.0216\n",
       "3  038441c925bb     3 2018-08-14 15:30:15  2.6368  0.0213\n",
       "4  038441c925bb     4 2018-08-14 15:30:20  2.6368  0.0215"
      ]
     },
     "execution_count": 5,
     "metadata": {},
     "output_type": "execute_result"
    }
   ],
   "source": [
    "# display the top 5 rows\n",
    "train_series.head()"
   ]
  },
  {
   "cell_type": "code",
   "execution_count": 6,
   "id": "a391e06b",
   "metadata": {
    "execution": {
     "iopub.execute_input": "2023-10-07T11:14:10.345233Z",
     "iopub.status.busy": "2023-10-07T11:14:10.343991Z",
     "iopub.status.idle": "2023-10-07T11:14:17.335393Z",
     "shell.execute_reply": "2023-10-07T11:14:17.334265Z"
    },
    "papermill": {
     "duration": 6.998371,
     "end_time": "2023-10-07T11:14:17.338008",
     "exception": false,
     "start_time": "2023-10-07T11:14:10.339637",
     "status": "completed"
    },
    "tags": []
   },
   "outputs": [
    {
     "data": {
      "text/plain": [
       "277"
      ]
     },
     "execution_count": 6,
     "metadata": {},
     "output_type": "execute_result"
    }
   ],
   "source": [
    "# Total unique series_id\n",
    "train_series['series_id'].nunique()"
   ]
  },
  {
   "cell_type": "code",
   "execution_count": 7,
   "id": "b7afe93e",
   "metadata": {
    "execution": {
     "iopub.execute_input": "2023-10-07T11:14:17.346516Z",
     "iopub.status.busy": "2023-10-07T11:14:17.345957Z",
     "iopub.status.idle": "2023-10-07T11:14:31.902427Z",
     "shell.execute_reply": "2023-10-07T11:14:31.901104Z"
    },
    "papermill": {
     "duration": 14.563677,
     "end_time": "2023-10-07T11:14:31.905122",
     "exception": false,
     "start_time": "2023-10-07T11:14:17.341445",
     "status": "completed"
    },
    "tags": []
   },
   "outputs": [
    {
     "data": {
      "text/html": [
       "<div>\n",
       "<style scoped>\n",
       "    .dataframe tbody tr th:only-of-type {\n",
       "        vertical-align: middle;\n",
       "    }\n",
       "\n",
       "    .dataframe tbody tr th {\n",
       "        vertical-align: top;\n",
       "    }\n",
       "\n",
       "    .dataframe thead th {\n",
       "        text-align: right;\n",
       "    }\n",
       "</style>\n",
       "<table border=\"1\" class=\"dataframe\">\n",
       "  <thead>\n",
       "    <tr style=\"text-align: right;\">\n",
       "      <th></th>\n",
       "      <th>step</th>\n",
       "      <th>timestamp</th>\n",
       "      <th>anglez</th>\n",
       "      <th>enmo</th>\n",
       "    </tr>\n",
       "  </thead>\n",
       "  <tbody>\n",
       "    <tr>\n",
       "      <th>count</th>\n",
       "      <td>1.279463e+08</td>\n",
       "      <td>127946340</td>\n",
       "      <td>1.279463e+08</td>\n",
       "      <td>1.279463e+08</td>\n",
       "    </tr>\n",
       "    <tr>\n",
       "      <th>mean</th>\n",
       "      <td>2.548048e+05</td>\n",
       "      <td>2018-07-16 13:31:51.766071296</td>\n",
       "      <td>-8.810453e+00</td>\n",
       "      <td>4.131503e-02</td>\n",
       "    </tr>\n",
       "    <tr>\n",
       "      <th>min</th>\n",
       "      <td>0.000000e+00</td>\n",
       "      <td>2017-08-04 17:30:00</td>\n",
       "      <td>-9.000000e+01</td>\n",
       "      <td>0.000000e+00</td>\n",
       "    </tr>\n",
       "    <tr>\n",
       "      <th>25%</th>\n",
       "      <td>1.158120e+05</td>\n",
       "      <td>2018-02-12 20:09:30</td>\n",
       "      <td>-3.185890e+01</td>\n",
       "      <td>1.300000e-03</td>\n",
       "    </tr>\n",
       "    <tr>\n",
       "      <th>50%</th>\n",
       "      <td>2.345190e+05</td>\n",
       "      <td>2018-07-22 02:40:47.500000</td>\n",
       "      <td>-9.597900e+00</td>\n",
       "      <td>1.720000e-02</td>\n",
       "    </tr>\n",
       "    <tr>\n",
       "      <th>75%</th>\n",
       "      <td>3.571960e+05</td>\n",
       "      <td>2018-12-24 18:28:05</td>\n",
       "      <td>1.130020e+01</td>\n",
       "      <td>4.370000e-02</td>\n",
       "    </tr>\n",
       "    <tr>\n",
       "      <th>max</th>\n",
       "      <td>1.433879e+06</td>\n",
       "      <td>2019-07-09 09:44:55</td>\n",
       "      <td>9.000000e+01</td>\n",
       "      <td>1.143370e+01</td>\n",
       "    </tr>\n",
       "    <tr>\n",
       "      <th>std</th>\n",
       "      <td>1.778930e+05</td>\n",
       "      <td>NaN</td>\n",
       "      <td>3.552188e+01</td>\n",
       "      <td>1.018289e-01</td>\n",
       "    </tr>\n",
       "  </tbody>\n",
       "</table>\n",
       "</div>"
      ],
      "text/plain": [
       "               step                      timestamp        anglez          enmo\n",
       "count  1.279463e+08                      127946340  1.279463e+08  1.279463e+08\n",
       "mean   2.548048e+05  2018-07-16 13:31:51.766071296 -8.810453e+00  4.131503e-02\n",
       "min    0.000000e+00            2017-08-04 17:30:00 -9.000000e+01  0.000000e+00\n",
       "25%    1.158120e+05            2018-02-12 20:09:30 -3.185890e+01  1.300000e-03\n",
       "50%    2.345190e+05     2018-07-22 02:40:47.500000 -9.597900e+00  1.720000e-02\n",
       "75%    3.571960e+05            2018-12-24 18:28:05  1.130020e+01  4.370000e-02\n",
       "max    1.433879e+06            2019-07-09 09:44:55  9.000000e+01  1.143370e+01\n",
       "std    1.778930e+05                            NaN  3.552188e+01  1.018289e-01"
      ]
     },
     "execution_count": 7,
     "metadata": {},
     "output_type": "execute_result"
    }
   ],
   "source": [
    "# Five point summary\n",
    "train_series.describe()"
   ]
  },
  {
   "cell_type": "code",
   "execution_count": null,
   "id": "2854d404",
   "metadata": {
    "papermill": {
     "duration": 0.003053,
     "end_time": "2023-10-07T11:14:31.911708",
     "exception": false,
     "start_time": "2023-10-07T11:14:31.908655",
     "status": "completed"
    },
    "tags": []
   },
   "outputs": [],
   "source": []
  }
 ],
 "metadata": {
  "kernelspec": {
   "display_name": "Python 3",
   "language": "python",
   "name": "python3"
  },
  "language_info": {
   "codemirror_mode": {
    "name": "ipython",
    "version": 3
   },
   "file_extension": ".py",
   "mimetype": "text/x-python",
   "name": "python",
   "nbconvert_exporter": "python",
   "pygments_lexer": "ipython3",
   "version": "3.10.12"
  },
  "papermill": {
   "default_parameters": {},
   "duration": 83.15261,
   "end_time": "2023-10-07T11:14:33.240866",
   "environment_variables": {},
   "exception": null,
   "input_path": "__notebook__.ipynb",
   "output_path": "__notebook__.ipynb",
   "parameters": {},
   "start_time": "2023-10-07T11:13:10.088256",
   "version": "2.4.0"
  }
 },
 "nbformat": 4,
 "nbformat_minor": 5
}
